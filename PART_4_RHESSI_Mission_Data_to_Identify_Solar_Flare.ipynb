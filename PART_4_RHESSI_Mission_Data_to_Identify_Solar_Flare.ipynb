{
  "nbformat": 4,
  "nbformat_minor": 0,
  "metadata": {
    "colab": {
      "provenance": [],
      "authorship_tag": "ABX9TyOM+W/0F7aXBM6GAdSFywhS",
      "include_colab_link": true
    },
    "kernelspec": {
      "name": "python3",
      "display_name": "Python 3"
    },
    "language_info": {
      "name": "python"
    }
  },
  "cells": [
    {
      "cell_type": "markdown",
      "metadata": {
        "id": "view-in-github",
        "colab_type": "text"
      },
      "source": [
        "<a href=\"https://colab.research.google.com/github/SaraKarim23/PART_4-RHESSI-Mission-Data-to-Identify-Solar-Flare/blob/main/PART_4_RHESSI_Mission_Data_to_Identify_Solar_Flare.ipynb\" target=\"_parent\"><img src=\"https://colab.research.google.com/assets/colab-badge.svg\" alt=\"Open In Colab\"/></a>"
      ]
    },
    {
      "cell_type": "markdown",
      "source": [
        "## **Predicting solar flare energy range from the given dataset**\n",
        "\n",
        "**Data Preprocessing**"
      ],
      "metadata": {
        "id": "eprfY4h_o50m"
      }
    },
    {
      "cell_type": "code",
      "source": [
        "predicting_df = df.copy(deep=True)\n",
        "\n",
        "predicting_df['dt.start'] = predicting_df[['start.date','start.time']].apply(lambda x: parse_date(x[0],x[1]), axis=1)\n",
        "predicting_df['dt.peak'] = predicting_df[['start.date','peak']].apply(lambda x: parse_date(x[0],x[1]), axis=1)\n",
        "predicting_df['dt.end'] = predicting_df[['start.date','end']].apply(lambda x: parse_date(x[0],x[1]), axis=1)\n",
        "# clean columns\n",
        "predicting_df.drop(['start.date','start.time','peak','end'], axis=1, inplace=True)\n",
        "# add new columns\n",
        "predicting_df['year'] = predicting_df['dt.start'].apply(lambda col: col.year)\n",
        "predicting_df['month'] = predicting_df['dt.start'].apply(lambda col: col.month)\n",
        "predicting_df['day'] = predicting_df['dt.start'].apply(lambda col: col.day)"
      ],
      "metadata": {
        "id": "E5qZ3yV6o4Kk"
      },
      "execution_count": 73,
      "outputs": []
    },
    {
      "cell_type": "code",
      "source": [
        "# Display columns\n",
        "predicting_df.columns"
      ],
      "metadata": {
        "colab": {
          "base_uri": "https://localhost:8080/"
        },
        "id": "7tDa-udepDvE",
        "outputId": "50c6906d-83b5-4b85-c83f-3620eba66cde"
      },
      "execution_count": 74,
      "outputs": [
        {
          "output_type": "execute_result",
          "data": {
            "text/plain": [
              "Index(['flare', 'duration.s', 'peak.c/s', 'total.counts', 'energy.kev',\n",
              "       'x.pos.asec', 'y.pos.asec', 'radial', 'active.region.ar', 'flag.1',\n",
              "       'flag.2', 'flag.3', 'flag.4', 'flag.5', 'duration_s_log', 'flare_log',\n",
              "       'dt.start', 'dt.peak', 'dt.end', 'year', 'month', 'day'],\n",
              "      dtype='object')"
            ]
          },
          "metadata": {},
          "execution_count": 74
        }
      ]
    },
    {
      "cell_type": "code",
      "source": [
        "# Rename columns and display few rows\n",
        "predicting_df = predicting_df.rename(columns = {'duration.s':'duration_s', 'peak.c/s':'peak_c_s', 'total.counts':'total_counts', 'energy.kev':'energy_kev', 'x.pos.asec':'x_pos_asec',\n",
        "       'y.pos.asec':'y_pos_asec', 'active.region.ar':'active_region_ar', 'flag.1':'flag_1', 'flag.2':'flag_2',\n",
        "       'flag.3':'flag_3', 'flag.4':'flag_4', 'flag.5':'flag_5', 'dt.start':'date_start', 'dt.peak':'date_peak', 'dt.end':'date_end'})\n",
        "predicting_df.head(3)"
      ],
      "metadata": {
        "colab": {
          "base_uri": "https://localhost:8080/",
          "height": 173
        },
        "id": "4HtXpiAapIzb",
        "outputId": "9a97be95-4178-4ac4-fd30-fadb2da922ab"
      },
      "execution_count": 75,
      "outputs": [
        {
          "output_type": "execute_result",
          "data": {
            "text/plain": [
              "     flare  duration_s  peak_c_s  total_counts energy_kev  x_pos_asec  \\\n",
              "0  2021213         712       136        167304      12-25         592   \n",
              "1  2021228         288         7          9504       6-12         604   \n",
              "2  2021332         216        15         11448       6-12        -310   \n",
              "\n",
              "   y_pos_asec  radial  active_region_ar flag_1  ... flag_4 flag_5  \\\n",
              "0        -358     692                 0     A1  ...    NaN    NaN   \n",
              "1        -341     694              9811     A1  ...     Q1    NaN   \n",
              "2         375     487              9825     A1  ...    NaN    NaN   \n",
              "\n",
              "  duration_s_log flare_log          date_start           date_peak  \\\n",
              "0       6.568078  6.568078 2002-02-12 21:29:56 2002-02-12 21:33:38   \n",
              "1       5.662960  5.662960 2002-02-12 21:44:08 2002-02-12 21:45:06   \n",
              "2       5.375278  5.375278 2002-02-13 00:53:24 2002-02-13 00:54:54   \n",
              "\n",
              "             date_end  year month  day  \n",
              "0 2002-02-12 21:41:48  2002     2   12  \n",
              "1 2002-02-12 21:48:56  2002     2   12  \n",
              "2 2002-02-13 00:57:00  2002     2   13  \n",
              "\n",
              "[3 rows x 22 columns]"
            ],
            "text/html": [
              "\n",
              "  <div id=\"df-0aa1d641-8d9b-4e16-9da4-dc2bc701139f\" class=\"colab-df-container\">\n",
              "    <div>\n",
              "<style scoped>\n",
              "    .dataframe tbody tr th:only-of-type {\n",
              "        vertical-align: middle;\n",
              "    }\n",
              "\n",
              "    .dataframe tbody tr th {\n",
              "        vertical-align: top;\n",
              "    }\n",
              "\n",
              "    .dataframe thead th {\n",
              "        text-align: right;\n",
              "    }\n",
              "</style>\n",
              "<table border=\"1\" class=\"dataframe\">\n",
              "  <thead>\n",
              "    <tr style=\"text-align: right;\">\n",
              "      <th></th>\n",
              "      <th>flare</th>\n",
              "      <th>duration_s</th>\n",
              "      <th>peak_c_s</th>\n",
              "      <th>total_counts</th>\n",
              "      <th>energy_kev</th>\n",
              "      <th>x_pos_asec</th>\n",
              "      <th>y_pos_asec</th>\n",
              "      <th>radial</th>\n",
              "      <th>active_region_ar</th>\n",
              "      <th>flag_1</th>\n",
              "      <th>...</th>\n",
              "      <th>flag_4</th>\n",
              "      <th>flag_5</th>\n",
              "      <th>duration_s_log</th>\n",
              "      <th>flare_log</th>\n",
              "      <th>date_start</th>\n",
              "      <th>date_peak</th>\n",
              "      <th>date_end</th>\n",
              "      <th>year</th>\n",
              "      <th>month</th>\n",
              "      <th>day</th>\n",
              "    </tr>\n",
              "  </thead>\n",
              "  <tbody>\n",
              "    <tr>\n",
              "      <th>0</th>\n",
              "      <td>2021213</td>\n",
              "      <td>712</td>\n",
              "      <td>136</td>\n",
              "      <td>167304</td>\n",
              "      <td>12-25</td>\n",
              "      <td>592</td>\n",
              "      <td>-358</td>\n",
              "      <td>692</td>\n",
              "      <td>0</td>\n",
              "      <td>A1</td>\n",
              "      <td>...</td>\n",
              "      <td>NaN</td>\n",
              "      <td>NaN</td>\n",
              "      <td>6.568078</td>\n",
              "      <td>6.568078</td>\n",
              "      <td>2002-02-12 21:29:56</td>\n",
              "      <td>2002-02-12 21:33:38</td>\n",
              "      <td>2002-02-12 21:41:48</td>\n",
              "      <td>2002</td>\n",
              "      <td>2</td>\n",
              "      <td>12</td>\n",
              "    </tr>\n",
              "    <tr>\n",
              "      <th>1</th>\n",
              "      <td>2021228</td>\n",
              "      <td>288</td>\n",
              "      <td>7</td>\n",
              "      <td>9504</td>\n",
              "      <td>6-12</td>\n",
              "      <td>604</td>\n",
              "      <td>-341</td>\n",
              "      <td>694</td>\n",
              "      <td>9811</td>\n",
              "      <td>A1</td>\n",
              "      <td>...</td>\n",
              "      <td>Q1</td>\n",
              "      <td>NaN</td>\n",
              "      <td>5.662960</td>\n",
              "      <td>5.662960</td>\n",
              "      <td>2002-02-12 21:44:08</td>\n",
              "      <td>2002-02-12 21:45:06</td>\n",
              "      <td>2002-02-12 21:48:56</td>\n",
              "      <td>2002</td>\n",
              "      <td>2</td>\n",
              "      <td>12</td>\n",
              "    </tr>\n",
              "    <tr>\n",
              "      <th>2</th>\n",
              "      <td>2021332</td>\n",
              "      <td>216</td>\n",
              "      <td>15</td>\n",
              "      <td>11448</td>\n",
              "      <td>6-12</td>\n",
              "      <td>-310</td>\n",
              "      <td>375</td>\n",
              "      <td>487</td>\n",
              "      <td>9825</td>\n",
              "      <td>A1</td>\n",
              "      <td>...</td>\n",
              "      <td>NaN</td>\n",
              "      <td>NaN</td>\n",
              "      <td>5.375278</td>\n",
              "      <td>5.375278</td>\n",
              "      <td>2002-02-13 00:53:24</td>\n",
              "      <td>2002-02-13 00:54:54</td>\n",
              "      <td>2002-02-13 00:57:00</td>\n",
              "      <td>2002</td>\n",
              "      <td>2</td>\n",
              "      <td>13</td>\n",
              "    </tr>\n",
              "  </tbody>\n",
              "</table>\n",
              "<p>3 rows × 22 columns</p>\n",
              "</div>\n",
              "    <div class=\"colab-df-buttons\">\n",
              "\n",
              "  <div class=\"colab-df-container\">\n",
              "    <button class=\"colab-df-convert\" onclick=\"convertToInteractive('df-0aa1d641-8d9b-4e16-9da4-dc2bc701139f')\"\n",
              "            title=\"Convert this dataframe to an interactive table.\"\n",
              "            style=\"display:none;\">\n",
              "\n",
              "  <svg xmlns=\"http://www.w3.org/2000/svg\" height=\"24px\" viewBox=\"0 -960 960 960\">\n",
              "    <path d=\"M120-120v-720h720v720H120Zm60-500h600v-160H180v160Zm220 220h160v-160H400v160Zm0 220h160v-160H400v160ZM180-400h160v-160H180v160Zm440 0h160v-160H620v160ZM180-180h160v-160H180v160Zm440 0h160v-160H620v160Z\"/>\n",
              "  </svg>\n",
              "    </button>\n",
              "\n",
              "  <style>\n",
              "    .colab-df-container {\n",
              "      display:flex;\n",
              "      gap: 12px;\n",
              "    }\n",
              "\n",
              "    .colab-df-convert {\n",
              "      background-color: #E8F0FE;\n",
              "      border: none;\n",
              "      border-radius: 50%;\n",
              "      cursor: pointer;\n",
              "      display: none;\n",
              "      fill: #1967D2;\n",
              "      height: 32px;\n",
              "      padding: 0 0 0 0;\n",
              "      width: 32px;\n",
              "    }\n",
              "\n",
              "    .colab-df-convert:hover {\n",
              "      background-color: #E2EBFA;\n",
              "      box-shadow: 0px 1px 2px rgba(60, 64, 67, 0.3), 0px 1px 3px 1px rgba(60, 64, 67, 0.15);\n",
              "      fill: #174EA6;\n",
              "    }\n",
              "\n",
              "    .colab-df-buttons div {\n",
              "      margin-bottom: 4px;\n",
              "    }\n",
              "\n",
              "    [theme=dark] .colab-df-convert {\n",
              "      background-color: #3B4455;\n",
              "      fill: #D2E3FC;\n",
              "    }\n",
              "\n",
              "    [theme=dark] .colab-df-convert:hover {\n",
              "      background-color: #434B5C;\n",
              "      box-shadow: 0px 1px 3px 1px rgba(0, 0, 0, 0.15);\n",
              "      filter: drop-shadow(0px 1px 2px rgba(0, 0, 0, 0.3));\n",
              "      fill: #FFFFFF;\n",
              "    }\n",
              "  </style>\n",
              "\n",
              "    <script>\n",
              "      const buttonEl =\n",
              "        document.querySelector('#df-0aa1d641-8d9b-4e16-9da4-dc2bc701139f button.colab-df-convert');\n",
              "      buttonEl.style.display =\n",
              "        google.colab.kernel.accessAllowed ? 'block' : 'none';\n",
              "\n",
              "      async function convertToInteractive(key) {\n",
              "        const element = document.querySelector('#df-0aa1d641-8d9b-4e16-9da4-dc2bc701139f');\n",
              "        const dataTable =\n",
              "          await google.colab.kernel.invokeFunction('convertToInteractive',\n",
              "                                                    [key], {});\n",
              "        if (!dataTable) return;\n",
              "\n",
              "        const docLinkHtml = 'Like what you see? Visit the ' +\n",
              "          '<a target=\"_blank\" href=https://colab.research.google.com/notebooks/data_table.ipynb>data table notebook</a>'\n",
              "          + ' to learn more about interactive tables.';\n",
              "        element.innerHTML = '';\n",
              "        dataTable['output_type'] = 'display_data';\n",
              "        await google.colab.output.renderOutput(dataTable, element);\n",
              "        const docLink = document.createElement('div');\n",
              "        docLink.innerHTML = docLinkHtml;\n",
              "        element.appendChild(docLink);\n",
              "      }\n",
              "    </script>\n",
              "  </div>\n",
              "\n",
              "\n",
              "<div id=\"df-40738665-1a45-4db1-8876-e3db4eb34bef\">\n",
              "  <button class=\"colab-df-quickchart\" onclick=\"quickchart('df-40738665-1a45-4db1-8876-e3db4eb34bef')\"\n",
              "            title=\"Suggest charts\"\n",
              "            style=\"display:none;\">\n",
              "\n",
              "<svg xmlns=\"http://www.w3.org/2000/svg\" height=\"24px\"viewBox=\"0 0 24 24\"\n",
              "     width=\"24px\">\n",
              "    <g>\n",
              "        <path d=\"M19 3H5c-1.1 0-2 .9-2 2v14c0 1.1.9 2 2 2h14c1.1 0 2-.9 2-2V5c0-1.1-.9-2-2-2zM9 17H7v-7h2v7zm4 0h-2V7h2v10zm4 0h-2v-4h2v4z\"/>\n",
              "    </g>\n",
              "</svg>\n",
              "  </button>\n",
              "\n",
              "<style>\n",
              "  .colab-df-quickchart {\n",
              "      --bg-color: #E8F0FE;\n",
              "      --fill-color: #1967D2;\n",
              "      --hover-bg-color: #E2EBFA;\n",
              "      --hover-fill-color: #174EA6;\n",
              "      --disabled-fill-color: #AAA;\n",
              "      --disabled-bg-color: #DDD;\n",
              "  }\n",
              "\n",
              "  [theme=dark] .colab-df-quickchart {\n",
              "      --bg-color: #3B4455;\n",
              "      --fill-color: #D2E3FC;\n",
              "      --hover-bg-color: #434B5C;\n",
              "      --hover-fill-color: #FFFFFF;\n",
              "      --disabled-bg-color: #3B4455;\n",
              "      --disabled-fill-color: #666;\n",
              "  }\n",
              "\n",
              "  .colab-df-quickchart {\n",
              "    background-color: var(--bg-color);\n",
              "    border: none;\n",
              "    border-radius: 50%;\n",
              "    cursor: pointer;\n",
              "    display: none;\n",
              "    fill: var(--fill-color);\n",
              "    height: 32px;\n",
              "    padding: 0;\n",
              "    width: 32px;\n",
              "  }\n",
              "\n",
              "  .colab-df-quickchart:hover {\n",
              "    background-color: var(--hover-bg-color);\n",
              "    box-shadow: 0 1px 2px rgba(60, 64, 67, 0.3), 0 1px 3px 1px rgba(60, 64, 67, 0.15);\n",
              "    fill: var(--button-hover-fill-color);\n",
              "  }\n",
              "\n",
              "  .colab-df-quickchart-complete:disabled,\n",
              "  .colab-df-quickchart-complete:disabled:hover {\n",
              "    background-color: var(--disabled-bg-color);\n",
              "    fill: var(--disabled-fill-color);\n",
              "    box-shadow: none;\n",
              "  }\n",
              "\n",
              "  .colab-df-spinner {\n",
              "    border: 2px solid var(--fill-color);\n",
              "    border-color: transparent;\n",
              "    border-bottom-color: var(--fill-color);\n",
              "    animation:\n",
              "      spin 1s steps(1) infinite;\n",
              "  }\n",
              "\n",
              "  @keyframes spin {\n",
              "    0% {\n",
              "      border-color: transparent;\n",
              "      border-bottom-color: var(--fill-color);\n",
              "      border-left-color: var(--fill-color);\n",
              "    }\n",
              "    20% {\n",
              "      border-color: transparent;\n",
              "      border-left-color: var(--fill-color);\n",
              "      border-top-color: var(--fill-color);\n",
              "    }\n",
              "    30% {\n",
              "      border-color: transparent;\n",
              "      border-left-color: var(--fill-color);\n",
              "      border-top-color: var(--fill-color);\n",
              "      border-right-color: var(--fill-color);\n",
              "    }\n",
              "    40% {\n",
              "      border-color: transparent;\n",
              "      border-right-color: var(--fill-color);\n",
              "      border-top-color: var(--fill-color);\n",
              "    }\n",
              "    60% {\n",
              "      border-color: transparent;\n",
              "      border-right-color: var(--fill-color);\n",
              "    }\n",
              "    80% {\n",
              "      border-color: transparent;\n",
              "      border-right-color: var(--fill-color);\n",
              "      border-bottom-color: var(--fill-color);\n",
              "    }\n",
              "    90% {\n",
              "      border-color: transparent;\n",
              "      border-bottom-color: var(--fill-color);\n",
              "    }\n",
              "  }\n",
              "</style>\n",
              "\n",
              "  <script>\n",
              "    async function quickchart(key) {\n",
              "      const quickchartButtonEl =\n",
              "        document.querySelector('#' + key + ' button');\n",
              "      quickchartButtonEl.disabled = true;  // To prevent multiple clicks.\n",
              "      quickchartButtonEl.classList.add('colab-df-spinner');\n",
              "      try {\n",
              "        const charts = await google.colab.kernel.invokeFunction(\n",
              "            'suggestCharts', [key], {});\n",
              "      } catch (error) {\n",
              "        console.error('Error during call to suggestCharts:', error);\n",
              "      }\n",
              "      quickchartButtonEl.classList.remove('colab-df-spinner');\n",
              "      quickchartButtonEl.classList.add('colab-df-quickchart-complete');\n",
              "    }\n",
              "    (() => {\n",
              "      let quickchartButtonEl =\n",
              "        document.querySelector('#df-40738665-1a45-4db1-8876-e3db4eb34bef button');\n",
              "      quickchartButtonEl.style.display =\n",
              "        google.colab.kernel.accessAllowed ? 'block' : 'none';\n",
              "    })();\n",
              "  </script>\n",
              "</div>\n",
              "\n",
              "    </div>\n",
              "  </div>\n"
            ],
            "application/vnd.google.colaboratory.intrinsic+json": {
              "type": "dataframe",
              "variable_name": "predicting_df"
            }
          },
          "metadata": {},
          "execution_count": 75
        }
      ]
    },
    {
      "cell_type": "code",
      "source": [
        "predicting_df = predicting_df.drop(['flag_1', 'flag_2', 'flag_3', 'flag_4', 'flag_5', 'date_start', 'date_peak', 'date_end'], axis=1)"
      ],
      "metadata": {
        "id": "Qeab-m-xpKhd"
      },
      "execution_count": 76,
      "outputs": []
    },
    {
      "cell_type": "code",
      "source": [
        "# Checking null values\n",
        "predicting_df.isnull().any()"
      ],
      "metadata": {
        "colab": {
          "base_uri": "https://localhost:8080/"
        },
        "id": "bw7hN9RapOHh",
        "outputId": "ab554709-d19f-4d26-ce2e-217fbdedd3a4"
      },
      "execution_count": 77,
      "outputs": [
        {
          "output_type": "execute_result",
          "data": {
            "text/plain": [
              "flare               False\n",
              "duration_s          False\n",
              "peak_c_s            False\n",
              "total_counts        False\n",
              "energy_kev          False\n",
              "x_pos_asec          False\n",
              "y_pos_asec          False\n",
              "radial              False\n",
              "active_region_ar    False\n",
              "duration_s_log      False\n",
              "flare_log           False\n",
              "year                False\n",
              "month               False\n",
              "day                 False\n",
              "dtype: bool"
            ]
          },
          "metadata": {},
          "execution_count": 77
        }
      ]
    },
    {
      "cell_type": "code",
      "source": [
        "# Viewing dataframe object details\n",
        "predicting_df.info()"
      ],
      "metadata": {
        "colab": {
          "base_uri": "https://localhost:8080/"
        },
        "id": "jsm33Z9opSTh",
        "outputId": "93cfd279-dbb3-4336-b449-04b6f9803242"
      },
      "execution_count": 78,
      "outputs": [
        {
          "output_type": "stream",
          "name": "stdout",
          "text": [
            "<class 'pandas.core.frame.DataFrame'>\n",
            "RangeIndex: 113942 entries, 0 to 113941\n",
            "Data columns (total 14 columns):\n",
            " #   Column            Non-Null Count   Dtype  \n",
            "---  ------            --------------   -----  \n",
            " 0   flare             113942 non-null  int64  \n",
            " 1   duration_s        113942 non-null  int64  \n",
            " 2   peak_c_s          113942 non-null  int64  \n",
            " 3   total_counts      113942 non-null  int64  \n",
            " 4   energy_kev        113942 non-null  object \n",
            " 5   x_pos_asec        113942 non-null  int64  \n",
            " 6   y_pos_asec        113942 non-null  int64  \n",
            " 7   radial            113942 non-null  int64  \n",
            " 8   active_region_ar  113942 non-null  int64  \n",
            " 9   duration_s_log    113942 non-null  float64\n",
            " 10  flare_log         113942 non-null  float64\n",
            " 11  year              113942 non-null  int64  \n",
            " 12  month             113942 non-null  int64  \n",
            " 13  day               113942 non-null  int64  \n",
            "dtypes: float64(2), int64(11), object(1)\n",
            "memory usage: 12.2+ MB\n"
          ]
        }
      ]
    },
    {
      "cell_type": "code",
      "source": [
        "# Enumerating energy range values from str to category\n",
        "dt = predicting_df['energy_kev'].astype('category')\n",
        "dict(enumerate((dt.cat.categories)))"
      ],
      "metadata": {
        "colab": {
          "base_uri": "https://localhost:8080/"
        },
        "id": "LHe4V3rvpVEu",
        "outputId": "ca0668a5-ea00-4f9b-bb58-176a3adc73ff"
      },
      "execution_count": 79,
      "outputs": [
        {
          "output_type": "execute_result",
          "data": {
            "text/plain": [
              "{0: '100-300',\n",
              " 1: '12-25',\n",
              " 2: '25-50',\n",
              " 3: '3-6',\n",
              " 4: '300-800',\n",
              " 5: '50-100',\n",
              " 6: '6-12',\n",
              " 7: '7000-20000',\n",
              " 8: '800-7000'}"
            ]
          },
          "metadata": {},
          "execution_count": 79
        }
      ]
    },
    {
      "cell_type": "code",
      "source": [
        "# Assigning the enumerated codes to ernegy column\n",
        "predicting_df['energy_kev'] = dt.cat.codes"
      ],
      "metadata": {
        "id": "bGTV4wO_pYUD"
      },
      "execution_count": 80,
      "outputs": []
    },
    {
      "cell_type": "code",
      "source": [
        "# Display dataset - Focus on the energy_kev column, the ranges have been converted to categorial values\n",
        "predicting_df.head(5)"
      ],
      "metadata": {
        "colab": {
          "base_uri": "https://localhost:8080/",
          "height": 206
        },
        "id": "TO0ymj67pbHm",
        "outputId": "a8858b8e-f2e4-4886-b3a6-dd85d2edebda"
      },
      "execution_count": 81,
      "outputs": [
        {
          "output_type": "execute_result",
          "data": {
            "text/plain": [
              "     flare  duration_s  peak_c_s  total_counts  energy_kev  x_pos_asec  \\\n",
              "0  2021213         712       136        167304           1         592   \n",
              "1  2021228         288         7          9504           6         604   \n",
              "2  2021332         216        15         11448           6        -310   \n",
              "3  2021308         244        20         17400           1        -277   \n",
              "4  2021310         236       336        313392           2        -272   \n",
              "\n",
              "   y_pos_asec  radial  active_region_ar  duration_s_log  flare_log  year  \\\n",
              "0        -358     692                 0        6.568078   6.568078  2002   \n",
              "1        -341     694              9811        5.662960   5.662960  2002   \n",
              "2         375     487              9825        5.375278   5.375278  2002   \n",
              "3         378     469              9822        5.497168   5.497168  2002   \n",
              "4         390     476              9825        5.463832   5.463832  2002   \n",
              "\n",
              "   month  day  \n",
              "0      2   12  \n",
              "1      2   12  \n",
              "2      2   13  \n",
              "3      2   13  \n",
              "4      2   13  "
            ],
            "text/html": [
              "\n",
              "  <div id=\"df-860e5143-8de9-4ad4-9eda-5df43f9ecabe\" class=\"colab-df-container\">\n",
              "    <div>\n",
              "<style scoped>\n",
              "    .dataframe tbody tr th:only-of-type {\n",
              "        vertical-align: middle;\n",
              "    }\n",
              "\n",
              "    .dataframe tbody tr th {\n",
              "        vertical-align: top;\n",
              "    }\n",
              "\n",
              "    .dataframe thead th {\n",
              "        text-align: right;\n",
              "    }\n",
              "</style>\n",
              "<table border=\"1\" class=\"dataframe\">\n",
              "  <thead>\n",
              "    <tr style=\"text-align: right;\">\n",
              "      <th></th>\n",
              "      <th>flare</th>\n",
              "      <th>duration_s</th>\n",
              "      <th>peak_c_s</th>\n",
              "      <th>total_counts</th>\n",
              "      <th>energy_kev</th>\n",
              "      <th>x_pos_asec</th>\n",
              "      <th>y_pos_asec</th>\n",
              "      <th>radial</th>\n",
              "      <th>active_region_ar</th>\n",
              "      <th>duration_s_log</th>\n",
              "      <th>flare_log</th>\n",
              "      <th>year</th>\n",
              "      <th>month</th>\n",
              "      <th>day</th>\n",
              "    </tr>\n",
              "  </thead>\n",
              "  <tbody>\n",
              "    <tr>\n",
              "      <th>0</th>\n",
              "      <td>2021213</td>\n",
              "      <td>712</td>\n",
              "      <td>136</td>\n",
              "      <td>167304</td>\n",
              "      <td>1</td>\n",
              "      <td>592</td>\n",
              "      <td>-358</td>\n",
              "      <td>692</td>\n",
              "      <td>0</td>\n",
              "      <td>6.568078</td>\n",
              "      <td>6.568078</td>\n",
              "      <td>2002</td>\n",
              "      <td>2</td>\n",
              "      <td>12</td>\n",
              "    </tr>\n",
              "    <tr>\n",
              "      <th>1</th>\n",
              "      <td>2021228</td>\n",
              "      <td>288</td>\n",
              "      <td>7</td>\n",
              "      <td>9504</td>\n",
              "      <td>6</td>\n",
              "      <td>604</td>\n",
              "      <td>-341</td>\n",
              "      <td>694</td>\n",
              "      <td>9811</td>\n",
              "      <td>5.662960</td>\n",
              "      <td>5.662960</td>\n",
              "      <td>2002</td>\n",
              "      <td>2</td>\n",
              "      <td>12</td>\n",
              "    </tr>\n",
              "    <tr>\n",
              "      <th>2</th>\n",
              "      <td>2021332</td>\n",
              "      <td>216</td>\n",
              "      <td>15</td>\n",
              "      <td>11448</td>\n",
              "      <td>6</td>\n",
              "      <td>-310</td>\n",
              "      <td>375</td>\n",
              "      <td>487</td>\n",
              "      <td>9825</td>\n",
              "      <td>5.375278</td>\n",
              "      <td>5.375278</td>\n",
              "      <td>2002</td>\n",
              "      <td>2</td>\n",
              "      <td>13</td>\n",
              "    </tr>\n",
              "    <tr>\n",
              "      <th>3</th>\n",
              "      <td>2021308</td>\n",
              "      <td>244</td>\n",
              "      <td>20</td>\n",
              "      <td>17400</td>\n",
              "      <td>1</td>\n",
              "      <td>-277</td>\n",
              "      <td>378</td>\n",
              "      <td>469</td>\n",
              "      <td>9822</td>\n",
              "      <td>5.497168</td>\n",
              "      <td>5.497168</td>\n",
              "      <td>2002</td>\n",
              "      <td>2</td>\n",
              "      <td>13</td>\n",
              "    </tr>\n",
              "    <tr>\n",
              "      <th>4</th>\n",
              "      <td>2021310</td>\n",
              "      <td>236</td>\n",
              "      <td>336</td>\n",
              "      <td>313392</td>\n",
              "      <td>2</td>\n",
              "      <td>-272</td>\n",
              "      <td>390</td>\n",
              "      <td>476</td>\n",
              "      <td>9825</td>\n",
              "      <td>5.463832</td>\n",
              "      <td>5.463832</td>\n",
              "      <td>2002</td>\n",
              "      <td>2</td>\n",
              "      <td>13</td>\n",
              "    </tr>\n",
              "  </tbody>\n",
              "</table>\n",
              "</div>\n",
              "    <div class=\"colab-df-buttons\">\n",
              "\n",
              "  <div class=\"colab-df-container\">\n",
              "    <button class=\"colab-df-convert\" onclick=\"convertToInteractive('df-860e5143-8de9-4ad4-9eda-5df43f9ecabe')\"\n",
              "            title=\"Convert this dataframe to an interactive table.\"\n",
              "            style=\"display:none;\">\n",
              "\n",
              "  <svg xmlns=\"http://www.w3.org/2000/svg\" height=\"24px\" viewBox=\"0 -960 960 960\">\n",
              "    <path d=\"M120-120v-720h720v720H120Zm60-500h600v-160H180v160Zm220 220h160v-160H400v160Zm0 220h160v-160H400v160ZM180-400h160v-160H180v160Zm440 0h160v-160H620v160ZM180-180h160v-160H180v160Zm440 0h160v-160H620v160Z\"/>\n",
              "  </svg>\n",
              "    </button>\n",
              "\n",
              "  <style>\n",
              "    .colab-df-container {\n",
              "      display:flex;\n",
              "      gap: 12px;\n",
              "    }\n",
              "\n",
              "    .colab-df-convert {\n",
              "      background-color: #E8F0FE;\n",
              "      border: none;\n",
              "      border-radius: 50%;\n",
              "      cursor: pointer;\n",
              "      display: none;\n",
              "      fill: #1967D2;\n",
              "      height: 32px;\n",
              "      padding: 0 0 0 0;\n",
              "      width: 32px;\n",
              "    }\n",
              "\n",
              "    .colab-df-convert:hover {\n",
              "      background-color: #E2EBFA;\n",
              "      box-shadow: 0px 1px 2px rgba(60, 64, 67, 0.3), 0px 1px 3px 1px rgba(60, 64, 67, 0.15);\n",
              "      fill: #174EA6;\n",
              "    }\n",
              "\n",
              "    .colab-df-buttons div {\n",
              "      margin-bottom: 4px;\n",
              "    }\n",
              "\n",
              "    [theme=dark] .colab-df-convert {\n",
              "      background-color: #3B4455;\n",
              "      fill: #D2E3FC;\n",
              "    }\n",
              "\n",
              "    [theme=dark] .colab-df-convert:hover {\n",
              "      background-color: #434B5C;\n",
              "      box-shadow: 0px 1px 3px 1px rgba(0, 0, 0, 0.15);\n",
              "      filter: drop-shadow(0px 1px 2px rgba(0, 0, 0, 0.3));\n",
              "      fill: #FFFFFF;\n",
              "    }\n",
              "  </style>\n",
              "\n",
              "    <script>\n",
              "      const buttonEl =\n",
              "        document.querySelector('#df-860e5143-8de9-4ad4-9eda-5df43f9ecabe button.colab-df-convert');\n",
              "      buttonEl.style.display =\n",
              "        google.colab.kernel.accessAllowed ? 'block' : 'none';\n",
              "\n",
              "      async function convertToInteractive(key) {\n",
              "        const element = document.querySelector('#df-860e5143-8de9-4ad4-9eda-5df43f9ecabe');\n",
              "        const dataTable =\n",
              "          await google.colab.kernel.invokeFunction('convertToInteractive',\n",
              "                                                    [key], {});\n",
              "        if (!dataTable) return;\n",
              "\n",
              "        const docLinkHtml = 'Like what you see? Visit the ' +\n",
              "          '<a target=\"_blank\" href=https://colab.research.google.com/notebooks/data_table.ipynb>data table notebook</a>'\n",
              "          + ' to learn more about interactive tables.';\n",
              "        element.innerHTML = '';\n",
              "        dataTable['output_type'] = 'display_data';\n",
              "        await google.colab.output.renderOutput(dataTable, element);\n",
              "        const docLink = document.createElement('div');\n",
              "        docLink.innerHTML = docLinkHtml;\n",
              "        element.appendChild(docLink);\n",
              "      }\n",
              "    </script>\n",
              "  </div>\n",
              "\n",
              "\n",
              "<div id=\"df-3dbed4a9-0801-4248-b85e-bfd758aeaaa8\">\n",
              "  <button class=\"colab-df-quickchart\" onclick=\"quickchart('df-3dbed4a9-0801-4248-b85e-bfd758aeaaa8')\"\n",
              "            title=\"Suggest charts\"\n",
              "            style=\"display:none;\">\n",
              "\n",
              "<svg xmlns=\"http://www.w3.org/2000/svg\" height=\"24px\"viewBox=\"0 0 24 24\"\n",
              "     width=\"24px\">\n",
              "    <g>\n",
              "        <path d=\"M19 3H5c-1.1 0-2 .9-2 2v14c0 1.1.9 2 2 2h14c1.1 0 2-.9 2-2V5c0-1.1-.9-2-2-2zM9 17H7v-7h2v7zm4 0h-2V7h2v10zm4 0h-2v-4h2v4z\"/>\n",
              "    </g>\n",
              "</svg>\n",
              "  </button>\n",
              "\n",
              "<style>\n",
              "  .colab-df-quickchart {\n",
              "      --bg-color: #E8F0FE;\n",
              "      --fill-color: #1967D2;\n",
              "      --hover-bg-color: #E2EBFA;\n",
              "      --hover-fill-color: #174EA6;\n",
              "      --disabled-fill-color: #AAA;\n",
              "      --disabled-bg-color: #DDD;\n",
              "  }\n",
              "\n",
              "  [theme=dark] .colab-df-quickchart {\n",
              "      --bg-color: #3B4455;\n",
              "      --fill-color: #D2E3FC;\n",
              "      --hover-bg-color: #434B5C;\n",
              "      --hover-fill-color: #FFFFFF;\n",
              "      --disabled-bg-color: #3B4455;\n",
              "      --disabled-fill-color: #666;\n",
              "  }\n",
              "\n",
              "  .colab-df-quickchart {\n",
              "    background-color: var(--bg-color);\n",
              "    border: none;\n",
              "    border-radius: 50%;\n",
              "    cursor: pointer;\n",
              "    display: none;\n",
              "    fill: var(--fill-color);\n",
              "    height: 32px;\n",
              "    padding: 0;\n",
              "    width: 32px;\n",
              "  }\n",
              "\n",
              "  .colab-df-quickchart:hover {\n",
              "    background-color: var(--hover-bg-color);\n",
              "    box-shadow: 0 1px 2px rgba(60, 64, 67, 0.3), 0 1px 3px 1px rgba(60, 64, 67, 0.15);\n",
              "    fill: var(--button-hover-fill-color);\n",
              "  }\n",
              "\n",
              "  .colab-df-quickchart-complete:disabled,\n",
              "  .colab-df-quickchart-complete:disabled:hover {\n",
              "    background-color: var(--disabled-bg-color);\n",
              "    fill: var(--disabled-fill-color);\n",
              "    box-shadow: none;\n",
              "  }\n",
              "\n",
              "  .colab-df-spinner {\n",
              "    border: 2px solid var(--fill-color);\n",
              "    border-color: transparent;\n",
              "    border-bottom-color: var(--fill-color);\n",
              "    animation:\n",
              "      spin 1s steps(1) infinite;\n",
              "  }\n",
              "\n",
              "  @keyframes spin {\n",
              "    0% {\n",
              "      border-color: transparent;\n",
              "      border-bottom-color: var(--fill-color);\n",
              "      border-left-color: var(--fill-color);\n",
              "    }\n",
              "    20% {\n",
              "      border-color: transparent;\n",
              "      border-left-color: var(--fill-color);\n",
              "      border-top-color: var(--fill-color);\n",
              "    }\n",
              "    30% {\n",
              "      border-color: transparent;\n",
              "      border-left-color: var(--fill-color);\n",
              "      border-top-color: var(--fill-color);\n",
              "      border-right-color: var(--fill-color);\n",
              "    }\n",
              "    40% {\n",
              "      border-color: transparent;\n",
              "      border-right-color: var(--fill-color);\n",
              "      border-top-color: var(--fill-color);\n",
              "    }\n",
              "    60% {\n",
              "      border-color: transparent;\n",
              "      border-right-color: var(--fill-color);\n",
              "    }\n",
              "    80% {\n",
              "      border-color: transparent;\n",
              "      border-right-color: var(--fill-color);\n",
              "      border-bottom-color: var(--fill-color);\n",
              "    }\n",
              "    90% {\n",
              "      border-color: transparent;\n",
              "      border-bottom-color: var(--fill-color);\n",
              "    }\n",
              "  }\n",
              "</style>\n",
              "\n",
              "  <script>\n",
              "    async function quickchart(key) {\n",
              "      const quickchartButtonEl =\n",
              "        document.querySelector('#' + key + ' button');\n",
              "      quickchartButtonEl.disabled = true;  // To prevent multiple clicks.\n",
              "      quickchartButtonEl.classList.add('colab-df-spinner');\n",
              "      try {\n",
              "        const charts = await google.colab.kernel.invokeFunction(\n",
              "            'suggestCharts', [key], {});\n",
              "      } catch (error) {\n",
              "        console.error('Error during call to suggestCharts:', error);\n",
              "      }\n",
              "      quickchartButtonEl.classList.remove('colab-df-spinner');\n",
              "      quickchartButtonEl.classList.add('colab-df-quickchart-complete');\n",
              "    }\n",
              "    (() => {\n",
              "      let quickchartButtonEl =\n",
              "        document.querySelector('#df-3dbed4a9-0801-4248-b85e-bfd758aeaaa8 button');\n",
              "      quickchartButtonEl.style.display =\n",
              "        google.colab.kernel.accessAllowed ? 'block' : 'none';\n",
              "    })();\n",
              "  </script>\n",
              "</div>\n",
              "\n",
              "    </div>\n",
              "  </div>\n"
            ],
            "application/vnd.google.colaboratory.intrinsic+json": {
              "type": "dataframe",
              "variable_name": "predicting_df"
            }
          },
          "metadata": {},
          "execution_count": 81
        }
      ]
    },
    {
      "cell_type": "markdown",
      "source": [
        "# **Creating train and test set for models**"
      ],
      "metadata": {
        "id": "Xy8JP4_RpeRW"
      }
    },
    {
      "cell_type": "code",
      "source": [
        "from sklearn.model_selection import train_test_split\n",
        "X_train, X_test = train_test_split(predicting_df, test_size=0.2)\n",
        "\n",
        "X_train.shape, X_test.shape\n",
        "\n",
        "y_train = X_train['energy_kev']\n",
        "X_train = X_train.drop(['energy_kev'], axis=1)\n",
        "\n",
        "y_test = X_test['energy_kev']\n",
        "X_test = X_test.drop(['energy_kev'], axis=1)\n",
        "\n"
      ],
      "metadata": {
        "id": "iUz90dpXpce1"
      },
      "execution_count": 82,
      "outputs": []
    },
    {
      "cell_type": "markdown",
      "source": [
        "# **Predictions using Various models**"
      ],
      "metadata": {
        "id": "zO97YRF8pnkE"
      }
    },
    {
      "cell_type": "markdown",
      "source": [
        "## **Using Linear Regression**"
      ],
      "metadata": {
        "id": "UXmEsXj3ppeZ"
      }
    },
    {
      "cell_type": "code",
      "source": [
        "from sklearn.linear_model import LinearRegression\n",
        "linear_regression = LinearRegression().fit(X_train, y_train)\n",
        "linear_regression_predictions = linear_regression.predict(X_test)\n",
        "linear_regression_score = linear_regression.score(X_test, y_test)\n",
        "linear_regression_score_train = linear_regression.score(X_train, y_train)\n",
        "linear_regression_score, linear_regression_score_train"
      ],
      "metadata": {
        "colab": {
          "base_uri": "https://localhost:8080/"
        },
        "id": "NPDjXnu_pygw",
        "outputId": "232eb70f-6dc3-4706-de31-3f08d5f111ef"
      },
      "execution_count": 83,
      "outputs": [
        {
          "output_type": "execute_result",
          "data": {
            "text/plain": [
              "(0.2057584392867705, 0.192425133296784)"
            ]
          },
          "metadata": {},
          "execution_count": 83
        }
      ]
    },
    {
      "cell_type": "code",
      "source": [
        "import matplotlib.pyplot as plt\n",
        "import seaborn as sns\n",
        "from sklearn.metrics import confusion_matrix\n",
        "\n",
        "# Generate some random data for demonstration purposes\n",
        "y_true = [0, 1, 2, 2, 1]\n",
        "y_pred = [0, 2, 1, 1, 2]\n",
        "\n",
        "# Create the confusion matrix\n",
        "cm = confusion_matrix(y_true, y_pred)\n",
        "\n",
        "# Define class labels\n",
        "class_labels = ['Class 0', 'Class 1', 'Class 2']\n",
        "\n",
        "# Plot the confusion matrix\n",
        "plt.figure(figsize=(8, 6))\n",
        "sns.heatmap(cm, annot=True, fmt=\"d\", cmap=\"Blues\", xticklabels=class_labels, yticklabels=class_labels)\n",
        "plt.xlabel(\"Predicted Label\")\n",
        "plt.ylabel(\"True Label\")\n",
        "plt.title(\"Confusion Matrix\")\n",
        "plt.show()\n"
      ],
      "metadata": {
        "colab": {
          "base_uri": "https://localhost:8080/",
          "height": 604
        },
        "id": "rM1sj4mvqPKz",
        "outputId": "fe33326a-fb29-4367-ec08-9094e00c4cb1"
      },
      "execution_count": 99,
      "outputs": [
        {
          "output_type": "display_data",
          "data": {
            "text/plain": [
              "<Figure size 800x600 with 2 Axes>"
            ],
            "image/png": "[encoded data removed]"
          },
          "metadata": {}
        }
      ]
    },
    {
      "cell_type": "code",
      "source": [
        "# Calculate the accuracy score\n",
        "accuracy = linear_regression.score(X_test, y_test)\n",
        "\n",
        "# Print the accuracy score\n",
        "print(\"Accuracy:\", accuracy)\n"
      ],
      "metadata": {
        "colab": {
          "base_uri": "https://localhost:8080/"
        },
        "id": "c_EAl7oJqfxu",
        "outputId": "f9ae56a7-9ea6-41b6-db5a-bc69963fcfec"
      },
      "execution_count": 98,
      "outputs": [
        {
          "output_type": "stream",
          "name": "stdout",
          "text": [
            "Accuracy: 0.2057584392867705\n"
          ]
        }
      ]
    },
    {
      "cell_type": "markdown",
      "source": [
        "# **Using Logistic regression**"
      ],
      "metadata": {
        "id": "YfiSOHLfqv-n"
      }
    },
    {
      "cell_type": "code",
      "source": [
        "from sklearn.linear_model import LogisticRegression\n",
        "logistic_regression = LogisticRegression().fit(X_train, y_train)\n",
        "logistic_regression_predictions = logistic_regression.predict(X_test)\n",
        "logistic_regression_score = logistic_regression.score(X_test, y_test)\n",
        "logistic_regression_score_train = logistic_regression.score(X_train, y_train)\n",
        "logistic_regression_score, logistic_regression_score_train"
      ],
      "metadata": {
        "colab": {
          "base_uri": "https://localhost:8080/"
        },
        "id": "DLDVqCR3q14V",
        "outputId": "053e3c95-e240-4b87-b227-a0db9bfc487c"
      },
      "execution_count": 100,
      "outputs": [
        {
          "output_type": "execute_result",
          "data": {
            "text/plain": [
              "(0.7746719908727895, 0.7731177251434401)"
            ]
          },
          "metadata": {},
          "execution_count": 100
        }
      ]
    },
    {
      "cell_type": "code",
      "source": [
        "from sklearn import metrics\n",
        "print ('\\nReport on data set:')\n",
        "print(metrics.classification_report(y_test, logistic_regression_predictions))\n",
        "print(metrics.precision_recall_fscore_support(y_test, logistic_regression_predictions, average='micro'))"
      ],
      "metadata": {
        "colab": {
          "base_uri": "https://localhost:8080/"
        },
        "id": "A1vzIs96q6nG",
        "outputId": "68584ace-4438-490c-c168-b6a2c56b9eee"
      },
      "execution_count": 101,
      "outputs": [
        {
          "output_type": "stream",
          "name": "stdout",
          "text": [
            "\n",
            "Report on data set:\n",
            "              precision    recall  f1-score   support\n",
            "\n",
            "           0       0.00      0.00      0.00        38\n",
            "           1       0.56      0.26      0.35      3853\n",
            "           2       0.23      0.01      0.02       416\n",
            "           3       0.00      0.00      0.00      1268\n",
            "           4       0.00      0.00      0.00         2\n",
            "           5       0.00      0.00      0.00        94\n",
            "           6       0.79      0.97      0.87     17115\n",
            "           7       0.00      0.00      0.00         1\n",
            "           8       0.00      0.00      0.00         2\n",
            "\n",
            "    accuracy                           0.77     22789\n",
            "   macro avg       0.18      0.14      0.14     22789\n",
            "weighted avg       0.69      0.77      0.72     22789\n",
            "\n",
            "(0.7746719908727895, 0.7746719908727895, 0.7746719908727895, None)\n"
          ]
        }
      ]
    },
    {
      "cell_type": "code",
      "source": [
        "accuracy = logistic_regression.score(X_test, y_test)\n",
        "print(\"Accuracy:\", accuracy)\n"
      ],
      "metadata": {
        "colab": {
          "base_uri": "https://localhost:8080/"
        },
        "id": "3Rt_OiZUrAK9",
        "outputId": "ceb8a23d-ba87-49e3-d0c3-01c539d92476"
      },
      "execution_count": 104,
      "outputs": [
        {
          "output_type": "stream",
          "name": "stdout",
          "text": [
            "Accuracy: 0.7746719908727895\n"
          ]
        }
      ]
    },
    {
      "cell_type": "markdown",
      "source": [
        "## **Using Decision Tree Classifier**"
      ],
      "metadata": {
        "id": "WTXL11AirPi3"
      }
    },
    {
      "cell_type": "code",
      "source": [
        "from sklearn.tree import DecisionTreeClassifier\n",
        "decision_tree_classifier = DecisionTreeClassifier().fit(X_train, y_train)\n",
        "decision_tree_predictions = decision_tree_classifier.predict(X_test)\n",
        "decision_tree_score = decision_tree_classifier.score(X_test, y_test)\n",
        "decision_tree_score_train = decision_tree_classifier.score(X_train, y_train)\n",
        "decision_tree_score, decision_tree_score_train\n",
        "\n",
        "print ('\\nReport on data set:')\n",
        "print(metrics.classification_report(y_test, decision_tree_predictions))\n",
        "print(metrics.precision_recall_fscore_support(y_test, decision_tree_predictions, average='micro'))\n",
        "\n"
      ],
      "metadata": {
        "colab": {
          "base_uri": "https://localhost:8080/"
        },
        "id": "C3Ni_o_erTtD",
        "outputId": "a8f1fd2b-94c7-42e1-a0ca-3ea2f94c8c79"
      },
      "execution_count": 105,
      "outputs": [
        {
          "output_type": "stream",
          "name": "stdout",
          "text": [
            "\n",
            "Report on data set:\n",
            "              precision    recall  f1-score   support\n",
            "\n",
            "           0       0.13      0.16      0.14        38\n",
            "           1       0.50      0.53      0.51      3853\n",
            "           2       0.12      0.12      0.12       416\n",
            "           3       1.00      1.00      1.00      1268\n",
            "           4       0.00      0.00      0.00         2\n",
            "           5       0.14      0.11      0.12        94\n",
            "           6       0.90      0.89      0.89     17115\n",
            "           7       0.00      0.00      0.00         1\n",
            "           8       0.00      0.00      0.00         2\n",
            "\n",
            "    accuracy                           0.82     22789\n",
            "   macro avg       0.31      0.31      0.31     22789\n",
            "weighted avg       0.82      0.82      0.82     22789\n",
            "\n",
            "(0.8160516038439598, 0.8160516038439598, 0.8160516038439599, None)\n"
          ]
        }
      ]
    },
    {
      "cell_type": "code",
      "source": [
        "accuracy = decision_tree_classifier.score(X_test, y_test)\n",
        "print(\"Accuracy:\", accuracy)\n"
      ],
      "metadata": {
        "colab": {
          "base_uri": "https://localhost:8080/"
        },
        "id": "4XUQI1AbrWuk",
        "outputId": "61d57c92-0b38-433f-ea58-4863dc3abc33"
      },
      "execution_count": 108,
      "outputs": [
        {
          "output_type": "stream",
          "name": "stdout",
          "text": [
            "Accuracy: 0.8160516038439598\n"
          ]
        }
      ]
    },
    {
      "cell_type": "markdown",
      "source": [
        "## **Using Random Forests Classifier**"
      ],
      "metadata": {
        "id": "MbFuJiIrrz_B"
      }
    },
    {
      "cell_type": "code",
      "source": [
        "from sklearn.ensemble import RandomForestClassifier\n",
        "random_forest_classifier = RandomForestClassifier(n_jobs=-1).fit(X_train, y_train)\n",
        "random_forest_predictions = random_forest_classifier.predict(X_test)\n",
        "random_forest_score = random_forest_classifier.score(X_test, y_test)\n",
        "random_forest_score_train = random_forest_classifier.score(X_train, y_train)\n",
        "random_forest_score, random_forest_score_train"
      ],
      "metadata": {
        "colab": {
          "base_uri": "https://localhost:8080/"
        },
        "id": "v2b1MTV9r3sJ",
        "outputId": "af08caf5-0435-4d6e-80e5-99a8ace59b46"
      },
      "execution_count": 110,
      "outputs": [
        {
          "output_type": "execute_result",
          "data": {
            "text/plain": [
              "(0.8757733994471016, 0.999978058868057)"
            ]
          },
          "metadata": {},
          "execution_count": 110
        }
      ]
    },
    {
      "cell_type": "code",
      "source": [
        "print ('\\nReport on data set:')\n",
        "print(metrics.classification_report(y_test, random_forest_predictions))\n",
        "print(metrics.precision_recall_fscore_support(y_test, random_forest_predictions, average='micro'))\n",
        "\n"
      ],
      "metadata": {
        "colab": {
          "base_uri": "https://localhost:8080/"
        },
        "id": "b38QTQ1Dr6A3",
        "outputId": "60c95485-5a4d-4e00-cc76-17c550ce370b"
      },
      "execution_count": 111,
      "outputs": [
        {
          "output_type": "stream",
          "name": "stdout",
          "text": [
            "\n",
            "Report on data set:\n",
            "              precision    recall  f1-score   support\n",
            "\n",
            "           0       0.50      0.11      0.17        38\n",
            "           1       0.69      0.57      0.63      3853\n",
            "           2       0.46      0.04      0.08       416\n",
            "           3       1.00      1.00      1.00      1268\n",
            "           4       0.00      0.00      0.00         2\n",
            "           5       0.71      0.05      0.10        94\n",
            "           6       0.90      0.96      0.93     17115\n",
            "           7       0.00      0.00      0.00         1\n",
            "           8       0.00      0.00      0.00         2\n",
            "\n",
            "    accuracy                           0.88     22789\n",
            "   macro avg       0.47      0.30      0.32     22789\n",
            "weighted avg       0.86      0.88      0.86     22789\n",
            "\n",
            "(0.8757733994471016, 0.8757733994471016, 0.8757733994471016, None)\n"
          ]
        }
      ]
    },
    {
      "cell_type": "code",
      "source": [
        "accuracy = random_forest_classifier.score(X_test, y_test)\n",
        "print(\"Accuracy:\", accuracy)\n"
      ],
      "metadata": {
        "colab": {
          "base_uri": "https://localhost:8080/"
        },
        "id": "zhzG-juwsEfe",
        "outputId": "2812a49c-0088-4b6b-bd3a-ce087848ad91"
      },
      "execution_count": 112,
      "outputs": [
        {
          "output_type": "stream",
          "name": "stdout",
          "text": [
            "Accuracy: 0.8757733994471016\n"
          ]
        }
      ]
    },
    {
      "cell_type": "markdown",
      "source": [
        "## **Using K Nearest Neighbours**"
      ],
      "metadata": {
        "id": "o8cXIlQ1r9Uj"
      }
    },
    {
      "cell_type": "code",
      "source": [
        "from sklearn.neighbors import KNeighborsClassifier\n",
        "kneighbors_classifier = KNeighborsClassifier().fit(X_train, y_train)\n",
        "kneighbors_predictions = kneighbors_classifier.predict(X_test)\n",
        "kneighbors_score = kneighbors_classifier.score(X_test, y_test)\n",
        "kneighbors_score_train = kneighbors_classifier.score(X_train, y_train)\n",
        "kneighbors_score, kneighbors_score_train"
      ],
      "metadata": {
        "colab": {
          "base_uri": "https://localhost:8080/"
        },
        "id": "O4AspIMKr_6W",
        "outputId": "a3392924-7dcc-4c1b-93be-4311e45e5685"
      },
      "execution_count": 113,
      "outputs": [
        {
          "output_type": "execute_result",
          "data": {
            "text/plain": [
              "(0.7662468734915968, 0.824416091626167)"
            ]
          },
          "metadata": {},
          "execution_count": 113
        }
      ]
    },
    {
      "cell_type": "code",
      "source": [
        "print ('\\nReport on data set:')\n",
        "print(metrics.classification_report(y_test, kneighbors_predictions))\n",
        "print(metrics.precision_recall_fscore_support(y_test, kneighbors_predictions, average='micro'))"
      ],
      "metadata": {
        "colab": {
          "base_uri": "https://localhost:8080/"
        },
        "id": "CBDLMNrKsAnd",
        "outputId": "078225cd-076b-4bdc-bcd8-12e7d9427316"
      },
      "execution_count": 114,
      "outputs": [
        {
          "output_type": "stream",
          "name": "stdout",
          "text": [
            "\n",
            "Report on data set:\n",
            "              precision    recall  f1-score   support\n",
            "\n",
            "           0       0.20      0.11      0.14        38\n",
            "           1       0.46      0.43      0.45      3853\n",
            "           2       0.12      0.03      0.05       416\n",
            "           3       0.49      0.27      0.35      1268\n",
            "           4       0.00      0.00      0.00         2\n",
            "           5       0.00      0.00      0.00        94\n",
            "           6       0.84      0.90      0.87     17115\n",
            "           7       0.00      0.00      0.00         1\n",
            "           8       0.00      0.00      0.00         2\n",
            "\n",
            "    accuracy                           0.77     22789\n",
            "   macro avg       0.24      0.19      0.21     22789\n",
            "weighted avg       0.74      0.77      0.75     22789\n",
            "\n",
            "(0.7662468734915968, 0.7662468734915968, 0.7662468734915968, None)\n"
          ]
        }
      ]
    },
    {
      "cell_type": "code",
      "source": [
        "accuracy = kneighbors_classifier.score(X_test, y_test)\n",
        "print(\"Accuracy:\", accuracy)"
      ],
      "metadata": {
        "colab": {
          "base_uri": "https://localhost:8080/"
        },
        "id": "rVJB4gTvsKAG",
        "outputId": "eb7c33e5-fec4-4c72-bf39-11f38c197417"
      },
      "execution_count": 115,
      "outputs": [
        {
          "output_type": "stream",
          "name": "stdout",
          "text": [
            "Accuracy: 0.7662468734915968\n"
          ]
        }
      ]
    },
    {
      "cell_type": "markdown",
      "source": [
        "## **Using Gradient Boosting Classifier**"
      ],
      "metadata": {
        "id": "-0qpYToIsQiS"
      }
    },
    {
      "cell_type": "code",
      "source": [
        "from sklearn.ensemble import GradientBoostingClassifier\n",
        "gradient_classifier = GradientBoostingClassifier().fit(X_train, y_train)\n",
        "gradient_classifier_predictions = gradient_classifier.predict(X_test)\n",
        "gradient_classifier_score = gradient_classifier.score(X_test, y_test)\n",
        "gradient_classifier_score_train = gradient_classifier.score(X_train, y_train)\n",
        "gradient_classifier_score, gradient_classifier_score_train"
      ],
      "metadata": {
        "colab": {
          "base_uri": "https://localhost:8080/"
        },
        "id": "_AI9E67WsP69",
        "outputId": "25e871ea-9bd3-48f9-a83d-c19bb053830b"
      },
      "execution_count": 116,
      "outputs": [
        {
          "output_type": "execute_result",
          "data": {
            "text/plain": [
              "(0.8712097941989556, 0.8734435509527937)"
            ]
          },
          "metadata": {},
          "execution_count": 116
        }
      ]
    },
    {
      "cell_type": "code",
      "source": [
        "print ('\\nReport on data set:')\n",
        "print(metrics.classification_report(y_test, gradient_classifier_predictions))\n",
        "print(metrics.precision_recall_fscore_support(y_test, gradient_classifier_predictions, average='micro'))"
      ],
      "metadata": {
        "colab": {
          "base_uri": "https://localhost:8080/"
        },
        "id": "SoLYsL8ssXBZ",
        "outputId": "68c2ffd9-d79d-42e7-8455-5c1ff72e9869"
      },
      "execution_count": 117,
      "outputs": [
        {
          "output_type": "stream",
          "name": "stdout",
          "text": [
            "\n",
            "Report on data set:\n",
            "              precision    recall  f1-score   support\n",
            "\n",
            "           0       0.33      0.18      0.24        38\n",
            "           1       0.68      0.54      0.60      3853\n",
            "           2       0.57      0.04      0.08       416\n",
            "           3       1.00      1.00      1.00      1268\n",
            "           4       0.00      0.00      0.00         2\n",
            "           5       0.30      0.03      0.06        94\n",
            "           6       0.89      0.96      0.93     17115\n",
            "           7       0.00      0.00      0.00         1\n",
            "           8       0.00      0.00      0.00         2\n",
            "\n",
            "    accuracy                           0.87     22789\n",
            "   macro avg       0.42      0.31      0.32     22789\n",
            "weighted avg       0.86      0.87      0.86     22789\n",
            "\n",
            "(0.8712097941989556, 0.8712097941989556, 0.8712097941989556, None)\n"
          ]
        }
      ]
    },
    {
      "cell_type": "code",
      "source": [
        "accuracy = gradient_classifier.score(X_test, y_test)\n",
        "print(\"Accuracy:\", accuracy)"
      ],
      "metadata": {
        "colab": {
          "base_uri": "https://localhost:8080/"
        },
        "id": "490HHnsnsaH4",
        "outputId": "fb25ffef-6573-446f-8cb4-b1696b7ee892"
      },
      "execution_count": 118,
      "outputs": [
        {
          "output_type": "stream",
          "name": "stdout",
          "text": [
            "Accuracy: 0.8712097941989556\n"
          ]
        }
      ]
    },
    {
      "cell_type": "markdown",
      "source": [
        "## **Using Neural Network (scikit-learn)**"
      ],
      "metadata": {
        "id": "5oG1w5lrsY2L"
      }
    },
    {
      "cell_type": "code",
      "source": [
        "from sklearn.neural_network import MLPClassifier\n",
        "mlp_classifier = MLPClassifier(hidden_layer_sizes=(100,10)).fit(X_train, y_train)\n",
        "mlp_predictions = mlp_classifier.predict(X_test)\n",
        "mlp_score = mlp_classifier.score(X_test, y_test)\n",
        "mlp_score_train = mlp_classifier.score(X_train, y_train)\n",
        "mlp_score, mlp_score_train"
      ],
      "metadata": {
        "colab": {
          "base_uri": "https://localhost:8080/"
        },
        "id": "BjzkC6ScsftN",
        "outputId": "db764757-b504-4965-86ae-613c60493da9"
      },
      "execution_count": 119,
      "outputs": [
        {
          "output_type": "execute_result",
          "data": {
            "text/plain": [
              "(0.7510202290578788, 0.7523614143253651)"
            ]
          },
          "metadata": {},
          "execution_count": 119
        }
      ]
    },
    {
      "cell_type": "code",
      "source": [
        "print ('\\nReport on data set:')\n",
        "print(metrics.classification_report(y_test, mlp_predictions))\n",
        "print(metrics.precision_recall_fscore_support(y_test, mlp_predictions, average='micro'))"
      ],
      "metadata": {
        "colab": {
          "base_uri": "https://localhost:8080/"
        },
        "id": "uS2W7aU9shwh",
        "outputId": "a19ab7d1-12b2-4d93-c9ae-5362fcec1b37"
      },
      "execution_count": 120,
      "outputs": [
        {
          "output_type": "stream",
          "name": "stdout",
          "text": [
            "\n",
            "Report on data set:\n",
            "              precision    recall  f1-score   support\n",
            "\n",
            "           0       0.00      0.00      0.00        38\n",
            "           1       0.00      0.00      0.00      3853\n",
            "           2       0.00      0.00      0.00       416\n",
            "           3       0.00      0.00      0.00      1268\n",
            "           4       0.00      0.00      0.00         2\n",
            "           5       0.00      0.00      0.00        94\n",
            "           6       0.75      1.00      0.86     17115\n",
            "           7       0.00      0.00      0.00         1\n",
            "           8       0.00      0.00      0.00         2\n",
            "\n",
            "    accuracy                           0.75     22789\n",
            "   macro avg       0.08      0.11      0.10     22789\n",
            "weighted avg       0.56      0.75      0.64     22789\n",
            "\n",
            "(0.7510202290578788, 0.7510202290578788, 0.7510202290578787, None)\n"
          ]
        }
      ]
    },
    {
      "cell_type": "code",
      "source": [
        "accuracy = mlp_classifier.score(X_test, y_test)\n",
        "print(\"Accuracy:\", accuracy)"
      ],
      "metadata": {
        "colab": {
          "base_uri": "https://localhost:8080/"
        },
        "id": "TAOjDghnuKkz",
        "outputId": "919ceff8-4a57-4f69-8776-b4d7297653f5"
      },
      "execution_count": 121,
      "outputs": [
        {
          "output_type": "stream",
          "name": "stdout",
          "text": [
            "Accuracy: 0.7510202290578788\n"
          ]
        }
      ]
    },
    {
      "cell_type": "code",
      "source": [
        "\n",
        "import matplotlib.pyplot as plt\n",
        "\n",
        "# Create a list of model names and their corresponding scores\n",
        "model_names = ['Linear Regression', 'Logistic Regression', 'Decision Tree', 'Random Forest', 'KNN', 'Gradient Boosting', 'Neural Network']\n",
        "model_scores = [linear_regression_score, logistic_regression_score, decision_tree_score, random_forest_score, kneighbors_score, gradient_classifier_score, mlp_score]\n",
        "\n",
        "# Create a bar chart\n",
        "plt.bar(model_names, model_scores)\n",
        "\n",
        "# Add title and labels\n",
        "plt.title('Model Comparison')\n",
        "plt.xlabel('Model')\n",
        "plt.ylabel('Score')\n",
        "\n",
        "# Rotate x-axis labels for better readability\n",
        "plt.xticks(rotation=45)\n",
        "\n",
        "# Show the plot\n",
        "plt.show()\n"
      ],
      "metadata": {
        "colab": {
          "base_uri": "https://localhost:8080/",
          "height": 955
        },
        "id": "G-Xszc9SuST2",
        "outputId": "c733bdf5-6f7d-4d4d-8cea-d797f83474d4"
      },
      "execution_count": 128,
      "outputs": [
        {
          "output_type": "display_data",
          "data": {
            "text/plain": [
              "<Figure size 1200x900 with 1 Axes>"
            ],
            "image/png": "[encoded data removed]"
          },
          "metadata": {}
        }
      ]
    }
  ]
}